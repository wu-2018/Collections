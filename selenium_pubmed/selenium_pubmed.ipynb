{
 "cells": [
  {
   "cell_type": "code",
   "execution_count": 1,
   "metadata": {},
   "outputs": [
    {
     "name": "stdout",
     "output_type": "stream",
     "text": [
      "11\n"
     ]
    }
   ],
   "source": [
    "with open(\"article_title.txt\", \"r\") as f:\n",
    "    paper_list = f.readlines()\n",
    "\n",
    "paper_list = [i.strip().replace(\"\\xa0\", \" \") for i in paper_list if i.strip()]\n",
    "paperList = list(set(paper_list))\n",
    "print(len(paperList))\n",
    "paperList = sorted(paperList, key=lambda x:paper_list.index(x))"
   ]
  },
  {
   "cell_type": "code",
   "execution_count": 2,
   "metadata": {},
   "outputs": [],
   "source": [
    "import os\n",
    "from collections import defaultdict\n",
    "\n",
    "from selenium import webdriver"
   ]
  },
  {
   "cell_type": "code",
   "execution_count": 3,
   "metadata": {},
   "outputs": [],
   "source": [
    "download_dir = \"pdf_downloaded\"\n",
    "\n",
    "if not os.path.exists(download_dir):\n",
    "    os.mkdir(download_dir)"
   ]
  },
  {
   "cell_type": "code",
   "execution_count": 11,
   "metadata": {},
   "outputs": [],
   "source": [
    "profile = webdriver.FirefoxProfile()\n",
    "profile.set_preference('permissions.default.stylesheet', 2)\n",
    "profile.set_preference('permissions.default.javascript', 2)\n",
    "profile.set_preference('permissions.default.image', 2)\n",
    "profile.set_preference('browser.download.folderList', 2)\n",
    "profile.set_preference('browser.download.dir', os.path.abspath(download_dir))\n",
    "profile.set_preference('browser.download.manager.showWhenStarting', False)\n",
    "profile.set_preference('browser.helperApps.neverAsk.saveToDisk', 'application/pdf')\n",
    "profile.set_preference('pdfjs.disabled', True)\n",
    "\n",
    "browser = webdriver.Firefox(firefox_profile=profile)"
   ]
  },
  {
   "cell_type": "code",
   "execution_count": 5,
   "metadata": {},
   "outputs": [],
   "source": [
    "total_di = defaultdict(defaultdict)\n",
    "pubmed_url_base = \"https://www.ncbi.nlm.nih.gov/pubmed/\"\n",
    "\n",
    "def similar_results_judge():\n",
    "    try:\n",
    "        item = browser.find_element_by_class_name(\"result_count\")\n",
    "        if int(item.text.split()[-1]) >1:\n",
    "            print(item.text)\n",
    "            try:\n",
    "                correct_paper = browser.find_element_by_class_name(\"sensor_content\")\n",
    "                correct_paper.find_elements_by_tag_name(\"a\")[-1].click()\n",
    "                print(\"`sensor_content` found! Jumping to the detailed page...\" )\n",
    "            except:\n",
    "                print(\"`sensor_content` not found. Trying again using simple mode...\" )\n",
    "                return True\n",
    "    except:\n",
    "        pass"
   ]
  },
  {
   "cell_type": "code",
   "execution_count": 6,
   "metadata": {},
   "outputs": [],
   "source": [
    "def search_pubmed(i, a, di, title_mode=True):\n",
    "    # search papers in pubmed\n",
    "    if title_mode:\n",
    "        pubmed_ = pubmed_url_base + \"?term=\" + a + \"[Title]\"\n",
    "    else:\n",
    "        pubmed_ = pubmed_url_base + \"?term=\" + a\n",
    "    \n",
    "    #browser.set_page_load_timeout(100)\n",
    "    try:\n",
    "        browser.get(pubmed_)\n",
    "        \n",
    "        if similar_results_judge():\n",
    "            # trying searching without specifying the '[Title]' constrain\n",
    "            search_pubmed(i, a, di, title_mode=False)\n",
    "\n",
    "        di[i]['title'] = a\n",
    "\n",
    "        cit = browser.find_element_by_class_name(\"cit\")\n",
    "        di[i]['desc'] = cit.text\n",
    "        di[i]['journal'] = cit.find_element_by_tag_name('a').text\n",
    "\n",
    "        aux =  browser.find_element_by_class_name(\"aux\")\n",
    "        dt = aux.find_elements_by_tag_name(\"dt\")\n",
    "        dd = aux.find_elements_by_tag_name(\"dd\")\n",
    "        \n",
    "        for ii,v in enumerate(dt):\n",
    "            di[i][v.text] = dd[ii].text\n",
    "            \n",
    "        abstr = browser.find_element_by_class_name(\"abstr\")        \n",
    "        di[i]['abstr'] = abstr.text\n",
    "\n",
    "        #print(di[i])\n",
    "    except Exception as e:\n",
    "        print(\"Error!\",e)\n",
    "    finally:\n",
    "        print(\"processed %s\"%i)\n",
    "        print(\"-\"*20)"
   ]
  },
  {
   "cell_type": "code",
   "execution_count": 29,
   "metadata": {},
   "outputs": [
    {
     "name": "stdout",
     "output_type": "stream",
     "text": [
      "processed 0\n",
      "--------------------\n",
      "Error! Message: Timeout loading page after 300000ms\n",
      "\n",
      "processed 1\n",
      "--------------------\n",
      "Error! Message: Timeout loading page after 300000ms\n",
      "\n",
      "processed 2\n",
      "--------------------\n",
      "Error! Message: Timeout loading page after 300000ms\n",
      "\n",
      "processed 3\n",
      "--------------------\n",
      "processed 4\n",
      "--------------------\n",
      "processed 5\n",
      "--------------------\n",
      "processed 6\n",
      "--------------------\n",
      "Error! Message: Timeout loading page after 300000ms\n",
      "\n",
      "processed 7\n",
      "--------------------\n",
      "Items: 1 to 20 of 287\n",
      "`sensor_content` not found. Trying again using simple mode...\n",
      "Items: 1 to 20 of 287\n",
      "`sensor_content` found! Jumping to the detailed page...\n",
      "processed 8\n",
      "--------------------\n",
      "processed 8\n",
      "--------------------\n",
      "processed 9\n",
      "--------------------\n",
      "Error! Message: Timeout loading page after 300000ms\n",
      "\n",
      "processed 10\n",
      "--------------------\n",
      "{10, 3, 7}\n",
      "Error! Message: Timeout loading page after 300000ms\n",
      "\n",
      "processed 10\n",
      "--------------------\n",
      "processed 3\n",
      "--------------------\n",
      "Error! Message: Timeout loading page after 300000ms\n",
      "\n",
      "processed 7\n",
      "--------------------\n",
      "{10, 7}\n",
      "processed 10\n",
      "--------------------\n",
      "processed 7\n",
      "--------------------\n"
     ]
    }
   ],
   "source": [
    "for i,a in enumerate(paperList):\n",
    "    search_pubmed(i, a, total_di)\n",
    "    \n",
    "max_iter = 5\n",
    "iter = 0\n",
    "while iter < max_iter:\n",
    "    rest = set(range(len(paperList))) - set(total_di.keys())\n",
    "    if not rest:\n",
    "        break\n",
    "    print(rest)\n",
    "    for i in rest:\n",
    "        search_pubmed(i, paperList[i], total_di)\n",
    "    iter +=1"
   ]
  },
  {
   "cell_type": "code",
   "execution_count": 84,
   "metadata": {},
   "outputs": [],
   "source": [
    "ncbi_url = \"https://www.ncbi.nlm.nih.gov/\"\n",
    "\n",
    "def download_pmc_pdf(di, pmcid_key):\n",
    "    \n",
    "    for i,d in di.items():\n",
    "        if pmcid_key in d.keys():\n",
    "            \n",
    "            pmc_url = ncbi_url + \"pmc/articles/\" + d[pmcid_key] + \"/\"\n",
    "\n",
    "            browser.get(pmc_url)\n",
    "            try:\n",
    "                down_ = browser.find_element_by_class_name(\"format-menu\")\n",
    "                pdf_link = down_.find_elements_by_tag_name(\"a\")[2]\n",
    "                # starting to download pdf\n",
    "                pdf_link.click()\n",
    "\n",
    "                pdf_url = pdf_link.get_attribute('href')\n",
    "                filename = pdf_url.split('/')[-1]\n",
    "                status = os.path.exists(filename)\n",
    "\n",
    "                di[i]['pdf_url'] = pdf_url\n",
    "                di[i]['filename'] = filename if status else \"\"\n",
    "\n",
    "            except Exception as e:\n",
    "                print(e)\n",
    "                \n",
    "download_pmc_pdf(total_di, 'PMCID:')"
   ]
  },
  {
   "cell_type": "code",
   "execution_count": 31,
   "metadata": {},
   "outputs": [
    {
     "name": "stdout",
     "output_type": "stream",
     "text": [
      "0 dict_keys(['title', 'desc', 'journal', 'PMID:', 'abstr'])\n",
      "1 dict_keys(['title', 'desc', 'journal', 'PMID:', 'abstr'])\n",
      "2 dict_keys(['title', 'desc', 'journal', 'PMID:', 'DOI:', 'abstr'])\n",
      "4 dict_keys(['title', 'desc', 'journal', 'PMID:', 'DOI:', 'abstr'])\n",
      "5 dict_keys(['title', 'desc', 'journal', 'PMID:', 'DOI:', 'abstr'])\n",
      "6 dict_keys(['title', 'desc', 'journal', 'PMID:', 'DOI:', 'abstr'])\n",
      "8 dict_keys(['title', 'desc', 'journal', 'PMID:', 'DOI:', 'abstr'])\n",
      "9 dict_keys(['title', 'desc', 'journal', 'PMID:', 'PMCID:', 'DOI:', 'abstr'])\n",
      "3 dict_keys(['title', 'desc', 'journal', 'PMID:', 'DOI:', 'abstr'])\n",
      "10 dict_keys(['title', 'desc', 'journal', 'PMID:', 'DOI:', 'abstr'])\n",
      "7 dict_keys(['title', 'desc', 'journal', 'PMID:', 'abstr'])\n"
     ]
    }
   ],
   "source": [
    "for k,d in total_di.items():\n",
    "    print(k, d.keys())"
   ]
  },
  {
   "cell_type": "code",
   "execution_count": 33,
   "metadata": {},
   "outputs": [
    {
     "name": "stdout",
     "output_type": "stream",
     "text": [
      "0     False     No doi!\n",
      "\n",
      "1     False     No doi!\n",
      "\n",
      "2     False     10.1016/j.jdermsci.2006.09.008\n",
      "\n",
      "4     False     10.2165/00128071-200304120-00004\n",
      "\n",
      "5     False     10.1111/j.1600-0846.2007.00275.x\n",
      "\n",
      "6     False     10.1111/ijd.12741\n",
      "\n",
      "8     False     10.1111/j.1525-1470.2006.00191.x\n",
      "\n",
      "9     False     10.1194/jlr.P030338\n",
      "\n",
      "3     False     10.1126/science.139.3556.766\n",
      "\n",
      "10     False     10.1016/j.jmbbm.2013.04.008\n",
      "\n",
      "7     False     No doi!\n",
      "\n"
     ]
    }
   ],
   "source": [
    "journal_li = []\n",
    "for k,d in total_di.items():\n",
    "    downloaded = 'filename' in d.keys()\n",
    "    print(k, end=' '*5)\n",
    "    #print(d['journal'], end=' '*5)\n",
    "    journal_li.append(d['journal'])\n",
    "    print(downloaded, end=' '*5)\n",
    "    if not downloaded:\n",
    "        print(d['DOI:'] if 'DOI:' in d.keys() else \"No doi!\", end=\"\")\n",
    "    print(\"\\n\")\n",
    "\n",
    "# https://doi.org/"
   ]
  },
  {
   "cell_type": "code",
   "execution_count": 103,
   "metadata": {},
   "outputs": [
    {
     "data": {
      "text/plain": [
       "{'Ann Intern Med.',\n",
       " 'Biol Psychiatry.',\n",
       " 'Circulation.',\n",
       " 'Diabetes Care.',\n",
       " 'Eur Heart J Cardiovasc Imaging.',\n",
       " 'Eur Heart J.',\n",
       " 'Gut.',\n",
       " 'J Am Coll Cardiol.',\n",
       " 'JACC Cardiovasc Imaging.'}"
      ]
     },
     "execution_count": 103,
     "metadata": {},
     "output_type": "execute_result"
    }
   ],
   "source": [
    "set(journal_li)"
   ]
  },
  {
   "cell_type": "code",
   "execution_count": 125,
   "metadata": {},
   "outputs": [
    {
     "name": "stdout",
     "output_type": "stream",
     "text": [
      "http://www.greensci.net/search?kw=J+Am+Coll+Cardiol\n"
     ]
    },
    {
     "name": "stderr",
     "output_type": "stream",
     "text": [
      "/usr/local/lib/python3.6/dist-packages/selenium/webdriver/remote/webdriver.py:1031: UserWarning: name used for saved screenshot does not match file type. It should end with a `.png` extension\n",
      "  \"type. It should end with a `.png` extension\", UserWarning)\n"
     ]
    },
    {
     "name": "stdout",
     "output_type": "stream",
     "text": [
      "http://www.greensci.net/search?kw=Eur+Heart+J\n",
      "http://www.greensci.net/search?kw=Ann+Intern+Med\n",
      "http://www.greensci.net/search?kw=Circulation\n",
      "http://www.greensci.net/search?kw=Eur+Heart+J+Cardiovasc+Imaging\n",
      "http://www.greensci.net/search?kw=Biol+Psychiatry\n",
      "http://www.greensci.net/search?kw=Diabetes+Care\n",
      "http://www.greensci.net/search?kw=Gut\n",
      "http://www.greensci.net/search?kw=JACC+Cardiovasc+Imaging\n"
     ]
    }
   ],
   "source": [
    "check_if_url = \"http://www.greensci.net/search?kw=\"\n",
    "\n",
    "for i in set(journal_li):\n",
    "    kw = i.rstrip('.').replace(' ', '+')\n",
    "    print(check_if_url+kw)\n",
    "    browser.get(check_if_url+kw)\n",
    "    browser.save_screenshot(\"img/\"+kw)\n",
    "    ts(10)"
   ]
  },
  {
   "cell_type": "code",
   "execution_count": 133,
   "metadata": {},
   "outputs": [],
   "source": [
    "table = browser.find_element_by_class_name(\"result-table-data\")\n",
    "tr = table.find_elements_by_tag_name(\"tr\")[1:]"
   ]
  },
  {
   "cell_type": "code",
   "execution_count": 134,
   "metadata": {},
   "outputs": [
    {
     "data": {
      "text/plain": [
       "['1936-878X',\n",
       " 'JACC-CARDIOVASC IMAG\\nJACC-CARDIOVASCULAR IMAGING',\n",
       " '7.815',\n",
       " '10.189',\n",
       " '10.247']"
      ]
     },
     "execution_count": 134,
     "metadata": {},
     "output_type": "execute_result"
    }
   ],
   "source": [
    "[td.text for td in tr[0].find_elements_by_tag_name(\"td\")]"
   ]
  },
  {
   "cell_type": "code",
   "execution_count": 10,
   "metadata": {},
   "outputs": [],
   "source": [
    "browser.quit()"
   ]
  },
  {
   "cell_type": "code",
   "execution_count": 115,
   "metadata": {},
   "outputs": [],
   "source": [
    "import pickle\n",
    "with open(\"papers_info.pickle\", \"wb\") as f:\n",
    "    pickle.dump(total_di, file=f)"
   ]
  },
  {
   "cell_type": "code",
   "execution_count": null,
   "metadata": {},
   "outputs": [],
   "source": []
  },
  {
   "cell_type": "code",
   "execution_count": 35,
   "metadata": {},
   "outputs": [
    {
     "data": {
      "text/plain": [
       "['Females have lower skin surface pH than men. A study on the surface of gender, forearm site variation, right/left difference and time of the day on the skin surface pH.',\n",
       " 'In vitro transepidermal water loss: differences between black and white human skin.',\n",
       " 'In vivo data of epidermal thickness evaluated by optical coherence tomography: effects of age, gender, skin type, and anatomic site.',\n",
       " 'Racial Differences in Skin Resistance.',\n",
       " 'Racial (ethnic) differences in skin properties: the objective data.',\n",
       " 'Relationships between skin properties and environmental parameters.',\n",
       " 'Seasonal variability in the biophysical properties of forehead skin in women in Guangzhou City, China.',\n",
       " 'Seasonal variability in the biophysical properties of stratum corneum from different anatomical sites.',\n",
       " 'Impairment of skin barrier function is not inherent in atopic dermatitis patients: a prospective study conducted in newborns.',\n",
       " 'Increase in short-chain ceramides correlates with an altered lipid organization and decreased barrier function in atopic eczema patients.',\n",
       " 'In vivo skin biophysical behaviour and surface topography as a function of ageing.']"
      ]
     },
     "execution_count": 35,
     "metadata": {},
     "output_type": "execute_result"
    }
   ],
   "source": [
    "paperList"
   ]
  },
  {
   "cell_type": "code",
   "execution_count": 46,
   "metadata": {},
   "outputs": [
    {
     "data": {
      "text/plain": [
       "defaultdict(None,\n",
       "            {'title': 'In vivo skin biophysical behaviour and surface topography as a function of ageing.',\n",
       "             'desc': 'J Mech Behav Biomed Mater. 2013 Dec;28:474-83. doi: 10.1016/j.jmbbm.2013.04.008. Epub 2013 Apr 17.',\n",
       "             'journal': 'J Mech Behav Biomed Mater.',\n",
       "             'PMID:': '23664827',\n",
       "             'DOI:': '10.1016/j.jmbbm.2013.04.008',\n",
       "             'abstr': \"Abstract\\nNormal skin ageing is characterised by an alteration of the underlying connective tissue with measurable consequences on global skin biophysical properties. The cutis laxa syndrome, a rare genetic disorder, is considered as an accelerated ageing process since patients appear prematurely aged due to alterations of dermal elastic fibres. In the present study, we compared the topography and the biomechanical parameters of normal aged skin with an 17 year old cutis laxa patient. Skin topography analyses were conducted on normal skin at different ages. The results indicate that the skin relief highly changes as a function of ageing. The cutaneous lines change from a relatively isotropic orientation to a highly anisotropic orientation. This reorganisation of the skin relief during the ageing process might be due to a modification of the skin mechanical properties, and particularly to a modification of the dermis mechanical properties. A specific bio-tribometer, based on the indentationtechnique under light load, has been developed to study the biophysical properties of the human skin in vivo through two main parameters: the physico-chemical properties of the skin surface, by measuring the maximum adhesion force between the skin and the bio-tribometer; and the bulk mechanical properties. Our results show that the pull-off force between the skin and the biotribometer as well as the skin Young's modulus decrease with age. In the case of the young cutis laxa patient, the results obtained were similar to those observed for aged individuals. These results are very interesting and encouraging since they would allow the monitoring of the cutis laxa skin in a standardised and non-invasive way to better characterize either the evolution of the disease or the benefit of a treatment.\"})"
      ]
     },
     "execution_count": 46,
     "metadata": {},
     "output_type": "execute_result"
    }
   ],
   "source": [
    "total_di[10]"
   ]
  },
  {
   "cell_type": "code",
   "execution_count": null,
   "metadata": {},
   "outputs": [],
   "source": []
  }
 ],
 "metadata": {
  "kernelspec": {
   "display_name": "Python 3",
   "language": "python",
   "name": "python3"
  },
  "language_info": {
   "codemirror_mode": {
    "name": "ipython",
    "version": 3
   },
   "file_extension": ".py",
   "mimetype": "text/x-python",
   "name": "python",
   "nbconvert_exporter": "python",
   "pygments_lexer": "ipython3",
   "version": "3.6.7"
  }
 },
 "nbformat": 4,
 "nbformat_minor": 2
}
